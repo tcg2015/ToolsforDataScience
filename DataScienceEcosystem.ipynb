{
 "cells": [
  {
   "cell_type": "markdown",
   "id": "3dc2a4f5-1141-4985-9ac3-10d33fb20090",
   "metadata": {},
   "source": [
    "# __Data Science and the Ecosystem__"
   ]
  },
  {
   "cell_type": "markdown",
   "id": "04552f6f-1dde-432f-b19e-a6cbfcaf573f",
   "metadata": {},
   "source": [
    "In this notebook, Data Science Tools and Ecosystem are summarized."
   ]
  },
  {
   "cell_type": "markdown",
   "id": "a792b0e2-6dec-4e42-ab5b-6f220610299c",
   "metadata": {},
   "source": [
    "__Objectives:__\n",
    "* List popular languages used in Data Science\n",
    "* Identify common libraries us by Data Scientists\n",
    "* Examples of data science tools\n",
    "* Examples of computation code used through Python"
   ]
  },
  {
   "cell_type": "markdown",
   "id": "d2174568-2c9d-4a34-8c76-40da2f1e9c34",
   "metadata": {},
   "source": [
    "Some of the popular languages that Data Scientists use are:\n",
    "1. R\n",
    "2. Python\n",
    "3. Julia"
   ]
  },
  {
   "cell_type": "markdown",
   "id": "9e07cf7b-5640-496d-b231-5efb8a3c6c37",
   "metadata": {},
   "source": [
    "Some of the commonly used libraries used by Data Scientists include:\n",
    "1. Pandas\n",
    "2. Matplotlib\n",
    "3. NumPy\n",
    "4. SciPy"
   ]
  },
  {
   "cell_type": "markdown",
   "id": "48b206ac-d56c-428b-858d-948aeb40b495",
   "metadata": {},
   "source": [
    "|Data Science Tools|\n",
    "--------------------\n",
    "Data Management - cassandra, Hadoop\n",
    "Operating System - RStudio, Jupyter\n",
    "Integration & Transformation -- kafka, Spark SQL\n",
    "Data Visualization - Tableau, PowerBi, PixieDust\n",
    "Code Assets - GitHub, BitBucket, Git\n"
   ]
  },
  {
   "cell_type": "markdown",
   "id": "4cbc5cf3-5997-46b9-9c71-7bcd24b99694",
   "metadata": {},
   "source": [
    "### Below are a few examples of evaluating arithmetic expressions in Python"
   ]
  },
  {
   "cell_type": "code",
   "execution_count": 46,
   "id": "9b2f78a4-d6a1-4c04-af78-03bdb8b1c2b7",
   "metadata": {},
   "outputs": [
    {
     "data": {
      "text/plain": [
       "10"
      ]
     },
     "execution_count": 46,
     "metadata": {},
     "output_type": "execute_result"
    }
   ],
   "source": [
    "# Addition\n",
    "1+9"
   ]
  },
  {
   "cell_type": "code",
   "execution_count": 48,
   "id": "2a8b9ba4-cf8d-4f28-95f6-e77f61afac36",
   "metadata": {},
   "outputs": [
    {
     "data": {
      "text/plain": [
       "8.0"
      ]
     },
     "execution_count": 48,
     "metadata": {},
     "output_type": "execute_result"
    }
   ],
   "source": [
    "# Division\n",
    "64/8"
   ]
  },
  {
   "cell_type": "code",
   "execution_count": 50,
   "id": "f7ce3cea-acda-44c5-9240-e54d2b902d56",
   "metadata": {},
   "outputs": [
    {
     "data": {
      "text/plain": [
       "11.0"
      ]
     },
     "execution_count": 50,
     "metadata": {},
     "output_type": "execute_result"
    }
   ],
   "source": [
    "# Arithmetic example\n",
    "(18/3)+(4+1)"
   ]
  },
  {
   "cell_type": "code",
   "execution_count": 52,
   "id": "6e36687b-65d1-4c07-a83e-08ea53c33611",
   "metadata": {},
   "outputs": [
    {
     "data": {
      "text/plain": [
       "17"
      ]
     },
     "execution_count": 52,
     "metadata": {},
     "output_type": "execute_result"
    }
   ],
   "source": [
    "# This a simple arithmetic expression to mutiply then add integers\n",
    "(3*4)+5"
   ]
  },
  {
   "cell_type": "code",
   "execution_count": 54,
   "id": "cf57b7cb-82b6-4334-ba53-e21996dcb623",
   "metadata": {},
   "outputs": [
    {
     "data": {
      "text/plain": [
       "3.3333333333333335"
      ]
     },
     "execution_count": 54,
     "metadata": {},
     "output_type": "execute_result"
    }
   ],
   "source": [
    "# This will convert 200 minutes to hours by diving by 60\n",
    "200/60"
   ]
  },
  {
   "cell_type": "markdown",
   "id": "df432426-e188-47c0-a2e3-cf8b02677c71",
   "metadata": {},
   "source": [
    "## Author\n",
    "Ty Garoutte"
   ]
  },
  {
   "cell_type": "code",
   "execution_count": null,
   "id": "84d0cb67-3565-49a5-adcd-1e423b09ebb5",
   "metadata": {},
   "outputs": [],
   "source": []
  }
 ],
 "metadata": {
  "kernelspec": {
   "display_name": "Python 3 (ipykernel)",
   "language": "python",
   "name": "python3"
  },
  "language_info": {
   "codemirror_mode": {
    "name": "ipython",
    "version": 3
   },
   "file_extension": ".py",
   "mimetype": "text/x-python",
   "name": "python",
   "nbconvert_exporter": "python",
   "pygments_lexer": "ipython3",
   "version": "3.12.4"
  }
 },
 "nbformat": 4,
 "nbformat_minor": 5
}
